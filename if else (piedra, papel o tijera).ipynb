{
 "cells": [
  {
   "cell_type": "code",
   "execution_count": 2,
   "metadata": {},
   "outputs": [
    {
     "name": "stdout",
     "output_type": "stream",
     "text": [
      "es impar\n"
     ]
    }
   ],
   "source": [
    "#verificar si el numero es par o impar\n",
    "x = 3\n",
    "if not x%2:\n",
    "    print(\"es par\")\n",
    "else:\n",
    "    print(\"es impar\")"
   ]
  },
  {
   "cell_type": "code",
   "execution_count": 3,
   "metadata": {},
   "outputs": [
    {
     "name": "stdout",
     "output_type": "stream",
     "text": [
      "4\n"
     ]
    }
   ],
   "source": [
    "x = 5\n",
    "x-=1 if x>0 else x\n",
    "print(x)"
   ]
  },
  {
   "cell_type": "code",
   "execution_count": 62,
   "metadata": {},
   "outputs": [
    {
     "name": "stdout",
     "output_type": "stream",
     "text": [
      "ganaste\n"
     ]
    }
   ],
   "source": [
    "import random\n",
    "\n",
    "def play():\n",
    "    user = input(\"que vas a escoger? 'r' para roca, 'p' para papel, 't' para tijeras\\n \")\n",
    "    computer = random.choice(['r', 'p', 't'])\n",
    "\n",
    "    if user == computer:\n",
    "        return 'empate'\n",
    "    \n",
    "    if is_win(user, computer):\n",
    "        return 'ganaste'\n",
    "    \n",
    "    return 'perdiste'\n",
    "\n",
    "def is_win(player, opponent):\n",
    "\n",
    "    if (player == 'r'and opponent == 't') or (player == 't' and opponent == 'p') \\\n",
    "        or (player == 'p' and opponent == 'r'):   \n",
    "        return True\n",
    "\n",
    "print(play())\n"
   ]
  }
 ],
 "metadata": {
  "kernelspec": {
   "display_name": "Python 3",
   "language": "python",
   "name": "python3"
  },
  "language_info": {
   "codemirror_mode": {
    "name": "ipython",
    "version": 3
   },
   "file_extension": ".py",
   "mimetype": "text/x-python",
   "name": "python",
   "nbconvert_exporter": "python",
   "pygments_lexer": "ipython3",
   "version": "3.11.9"
  }
 },
 "nbformat": 4,
 "nbformat_minor": 2
}
